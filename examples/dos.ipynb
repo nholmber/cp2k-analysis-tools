{
 "cells": [
  {
   "cell_type": "markdown",
   "metadata": {},
   "source": [
    "# Density of States and Electrode Potential\n",
    "\n",
    "The script `dos.py` contains tools to process the output of a density of states (DOS) calculation from CP2K. An example output file is given in the data directory, which contains the projected DOS of platinum in a 3-frame-long molecular dynamics simulation in water. Note that you can use the script for other codes in addition to CP2K if you implement a suitable parser.  \n",
    "\n",
    "In addition to DOS-related properties, the script is capable of computing the electrode potential, that is, the relative energy between the Fermi level and a reference point in vacuum. This calculation requires an additional input file which contains the total electrostatic potential of the system averaged in the direction of surface normal vector, possibly sampled from a molecular dynamics simulation. Your system should contain a sufficiently large vacuum region in this direction for meaningful results. You must also use an electrostatic decoupler (e.g. Martyna-Tuckermann Poisson solver) or a dipole correction. For example, if your system contains a 2D periodic surface slab with water on top of it, you need a sufficient amount of vacuum in the nonperiodic (\"height\") direction, which is also the direction that you should use to average the electrostatic potential.\n",
    "\n",
    "In CP2K, you could follow the flowchart:\n",
    "1. Run MD simulation of system saving wavefunction and other restart files every $N$ step. \n",
    "2. Sample [DOS](https://manual.cp2k.org/trunk/CP2K_INPUT/FORCE_EVAL/DFT/PRINT/PDOS.html) and [electrostatic potential](https://manual.cp2k.org/trunk/CP2K_INPUT/FORCE_EVAL/DFT/PRINT/V_HARTREE_CUBE.html) every $X$ step using restart files. Remember to use a [dipole correction](https://manual.cp2k.org/trunk/CP2K_INPUT/FORCE_EVAL/DFT.html#SURFACE_DIPOLE_CORRECTION) or an [electrostatic decoupler](https://manual.cp2k.org/trunk/CP2K_INPUT/FORCE_EVAL/DFT/POISSON.html).\n",
    "3. Use the [cubecruncher](https://www.cp2k.org/tools:cubecruncher) utility that is included in the CP2K tools folder to average the cube files.\n",
    "4. Concatenate DOS and averaged potential files into two files (one per property). \n",
    "5. Use files as input to the `dos.py` script.\n",
    "\n",
    "\n",
    "## List of Features\n",
    "* Compute total projected DOS\n",
    "* Smear DOS with Gaussian\n",
    "* Determine HOMO/LUMO levels\n",
    "* Compute electrode potential on absolute and standard hydrogen electrode scales\n",
    "* Determine vacuum potential dynamically or statically\n",
    "\n",
    "## Walkthrough Example\n",
    "\n",
    "In this example, we will sample the properties of a Pt-water interface from a molecular dynamics simulation. Only three randomly sampled frames from this simulation are included to keep the analysis time short.\n"
   ]
  },
  {
   "cell_type": "markdown",
   "metadata": {},
   "source": [
    "## Setup Notebook Environment"
   ]
  },
  {
   "cell_type": "code",
   "execution_count": 1,
   "metadata": {},
   "outputs": [],
   "source": [
    "# Setup Python environment\n",
    "import numpy as np\n",
    "\n",
    "# Configure matplotlib\n",
    "%matplotlib widget\n",
    "# Call helper function\n",
    "import matplotlib.pyplot as plt\n",
    "from setup_matplotlib import configure\n",
    "configure()\n",
    "\n",
    "# Add files to path\n",
    "import sys\n",
    "sys.path.append('../src/')\n",
    "from dos import DOS\n",
    "\n",
    "# Notebook magic\n",
    "%load_ext autoreload\n",
    "%autoreload 2"
   ]
  },
  {
   "cell_type": "markdown",
   "metadata": {},
   "source": [
    "## Load Input Files"
   ]
  },
  {
   "cell_type": "code",
   "execution_count": 2,
   "metadata": {},
   "outputs": [
    {
     "name": "stdout",
     "output_type": "stream",
     "text": [
      "Read DOS file with 3 frames.\n",
      "Read potential file with 3 frames.\n"
     ]
    }
   ],
   "source": [
    "# Read DOS file\n",
    "t0 = 10 # Arbitrary initial timestep\n",
    "stride = 100 # Data stride (e.g. number of MD steps between data samples)\n",
    "dos_file = 'data/dos-3frames.dat'\n",
    "dos = DOS()\n",
    "dos.read_dos(dos_file, [t0, stride])\n",
    "\n",
    "print(f'Read DOS file with {len(dos.dos)} frames.')\n",
    "\n",
    "# Add averaged electrostatic potential to object\n",
    "potential_file = 'data/elpot-3frames.dat'\n",
    "dos.read_potential(potential_file)\n",
    "nframes = len(dos.get_property('potential', 'all'))\n",
    "print(f'Read potential file with {nframes} frames.')"
   ]
  },
  {
   "cell_type": "markdown",
   "metadata": {},
   "source": [
    "## Inspect the Data"
   ]
  },
  {
   "cell_type": "code",
   "execution_count": 3,
   "metadata": {},
   "outputs": [
    {
     "name": "stdout",
     "output_type": "stream",
     "text": [
      "10.0 <class 'dos.DOSFrame'> {'_dos': array([[-9.82842803e+01,  2.00000000e+00,  8.42434540e-01, ...,\n",
      "         1.51751300e-02,  2.09949000e-03,  3.07856500e-02],\n",
      "       [-9.82250956e+01,  2.00000000e+00,  8.44522930e-01, ...,\n",
      "         1.62022000e-02,  3.02975000e-03,  3.02164100e-02],\n",
      "       [-9.81891493e+01,  2.00000000e+00,  8.45667560e-01, ...,\n",
      "         1.59510500e-02,  2.46642000e-03,  3.07579500e-02],\n",
      "       ...,\n",
      "       [ 1.57636145e+02,  0.00000000e+00,  1.00000000e-08, ...,\n",
      "         0.00000000e+00,  0.00000000e+00,  0.00000000e+00],\n",
      "       [ 1.58624789e+02,  0.00000000e+00,  0.00000000e+00, ...,\n",
      "         0.00000000e+00,  0.00000000e+00,  0.00000000e+00],\n",
      "       [ 1.59354680e+02,  0.00000000e+00,  0.00000000e+00, ...,\n",
      "         0.00000000e+00,  0.00000000e+00,  0.00000000e+00]]), '_fermi': -0.01278935041258146, '_potential': array([[ 0.00000000e+00,  5.84442956e+00],\n",
      "       [ 1.64983160e-01,  5.84441820e+00],\n",
      "       [ 3.29966320e-01,  5.84441022e+00],\n",
      "       [ 4.94949480e-01,  5.84440218e+00],\n",
      "       [ 6.59932640e-01,  5.84439358e+00],\n",
      "       [ 8.24915800e-01,  5.84438542e+00],\n",
      "       [ 9.89898960e-01,  5.84437929e+00],\n",
      "       [ 1.15488212e+00,  5.84437638e+00],\n",
      "       [ 1.31986528e+00,  5.84436922e+00],\n",
      "       [ 1.48484844e+00,  5.84436236e+00],\n",
      "       [ 1.64983160e+00,  5.84435924e+00],\n",
      "       [ 1.81481476e+00,  5.42419265e+00],\n",
      "       [ 1.97979792e+00,  5.42418708e+00],\n",
      "       [ 2.14478108e+00,  5.42418582e+00],\n",
      "       [ 2.30976424e+00,  5.42418119e+00],\n",
      "       [ 2.47474740e+00,  5.42417639e+00],\n",
      "       [ 2.63973056e+00,  5.42416585e+00],\n",
      "       [ 2.80471372e+00,  5.42414509e+00],\n",
      "       [ 2.96969687e+00,  5.42409927e+00],\n",
      "       [ 3.13468003e+00,  5.42399554e+00],\n",
      "       [ 3.29966319e+00,  5.42376151e+00],\n",
      "       [ 3.46464635e+00,  5.42325056e+00],\n",
      "       [ 3.62962951e+00,  5.42217612e+00],\n",
      "       [ 3.79461267e+00,  5.41999176e+00],\n",
      "       [ 3.95959583e+00,  5.41571789e+00],\n",
      "       [ 4.12457899e+00,  5.40764624e+00],\n",
      "       [ 4.28956215e+00,  5.39288793e+00],\n",
      "       [ 4.45454531e+00,  5.36669679e+00],\n",
      "       [ 4.61952847e+00,  5.32136922e+00],\n",
      "       [ 4.78451163e+00,  5.24450451e+00],\n",
      "       [ 4.94949479e+00,  5.11604902e+00],\n",
      "       [ 5.11447795e+00,  4.90334803e+00],\n",
      "       [ 5.27946111e+00,  4.55302706e+00],\n",
      "       [ 5.44444427e+00,  3.97814368e+00],\n",
      "       [ 5.60942743e+00,  3.03757722e+00],\n",
      "       [ 5.77441059e+00,  1.49948290e+00],\n",
      "       [ 5.93939375e+00, -1.02492876e+00],\n",
      "       [ 6.10437691e+00, -5.16463025e+00],\n",
      "       [ 6.26936007e+00, -1.17542944e+01],\n",
      "       [ 6.43434323e+00, -2.12603869e+01],\n",
      "       [ 6.59932639e+00, -3.19094387e+01],\n",
      "       [ 6.76430955e+00, -3.84533034e+01],\n",
      "       [ 6.92929271e+00, -3.64676289e+01],\n",
      "       [ 7.09427587e+00, -2.74048185e+01],\n",
      "       [ 7.25925903e+00, -1.68916486e+01],\n",
      "       [ 7.42424219e+00, -8.79248585e+00],\n",
      "       [ 7.58922535e+00, -3.64954070e+00],\n",
      "       [ 7.75420851e+00, -8.33607180e-01],\n",
      "       [ 7.91919167e+00,  2.41716320e-01],\n",
      "       [ 8.08417483e+00, -1.47070670e-01],\n",
      "       [ 8.24915799e+00, -2.04697128e+00],\n",
      "       [ 8.41414115e+00, -5.83366561e+00],\n",
      "       [ 8.57912430e+00, -1.21479033e+01],\n",
      "       [ 8.74410746e+00, -2.13486733e+01],\n",
      "       [ 8.90909062e+00, -3.17408500e+01],\n",
      "       [ 9.07407378e+00, -3.83173412e+01],\n",
      "       [ 9.23905694e+00, -3.66620828e+01],\n",
      "       [ 9.40404010e+00, -2.79476877e+01],\n",
      "       [ 9.56902326e+00, -1.75646091e+01],\n",
      "       [ 9.73400642e+00, -9.42536572e+00],\n",
      "       [ 9.89898958e+00, -4.18295206e+00],\n",
      "       [ 1.00639727e+01, -1.24404790e+00],\n",
      "       [ 1.02289559e+01, -3.72494900e-02],\n",
      "       [ 1.03939391e+01, -3.01621870e-01],\n",
      "       [ 1.05589222e+01, -2.10198868e+00],\n",
      "       [ 1.07239054e+01, -5.83064677e+00],\n",
      "       [ 1.08888885e+01, -1.21371358e+01],\n",
      "       [ 1.10538717e+01, -2.13663881e+01],\n",
      "       [ 1.12188549e+01, -3.17969044e+01],\n",
      "       [ 1.13838380e+01, -3.84759854e+01],\n",
      "       [ 1.15488212e+01, -3.70125911e+01],\n",
      "       [ 1.17138043e+01, -2.84495305e+01],\n",
      "       [ 1.18787875e+01, -1.80353663e+01],\n",
      "       [ 1.20437707e+01, -9.72339615e+00],\n",
      "       [ 1.22087538e+01, -4.27977930e+00],\n",
      "       [ 1.23737370e+01, -1.12921843e+00],\n",
      "       [ 1.25387201e+01,  3.34945220e-01],\n",
      "       [ 1.27037033e+01,  4.25438820e-01],\n",
      "       [ 1.28686865e+01, -8.50113090e-01],\n",
      "       [ 1.30336696e+01, -3.77742398e+00],\n",
      "       [ 1.31986528e+01, -8.90457539e+00],\n",
      "       [ 1.33636359e+01, -1.67212877e+01],\n",
      "       [ 1.35286191e+01, -2.65550598e+01],\n",
      "       [ 1.36936023e+01, -3.51286665e+01],\n",
      "       [ 1.38585854e+01, -3.77250220e+01],\n",
      "       [ 1.40235686e+01, -3.26310034e+01],\n",
      "       [ 1.41885517e+01, -2.30825748e+01],\n",
      "       [ 1.43535349e+01, -1.38477813e+01],\n",
      "       [ 1.45185181e+01, -7.29780334e+00],\n",
      "       [ 1.46835012e+01, -3.31398357e+00],\n",
      "       [ 1.48484844e+01, -7.82834700e-01],\n",
      "       [ 1.50134675e+01,  1.14136097e+00],\n",
      "       [ 1.51784507e+01,  2.54962001e+00],\n",
      "       [ 1.53434339e+01,  3.40864330e+00],\n",
      "       [ 1.55084170e+01,  3.99911410e+00],\n",
      "       [ 1.56734002e+01,  4.45201155e+00],\n",
      "       [ 1.58383833e+01,  4.74649183e+00],\n",
      "       [ 1.60033665e+01,  4.92069527e+00],\n",
      "       [ 1.61683496e+01,  5.01971628e+00],\n",
      "       [ 1.63333328e+01,  5.07134785e+00],\n",
      "       [ 1.64983160e+01,  5.09048526e+00],\n",
      "       [ 1.66632991e+01,  5.08246559e+00],\n",
      "       [ 1.68282823e+01,  5.04370199e+00],\n",
      "       [ 1.69932654e+01,  4.95928426e+00],\n",
      "       [ 1.71582486e+01,  4.79785976e+00],\n",
      "       [ 1.73232318e+01,  4.52261657e+00],\n",
      "       [ 1.74882149e+01,  4.16819276e+00],\n",
      "       [ 1.76531981e+01,  3.86118654e+00],\n",
      "       [ 1.78181812e+01,  3.54799293e+00],\n",
      "       [ 1.79831644e+01,  3.14212440e+00],\n",
      "       [ 1.81481476e+01,  2.82052691e+00],\n",
      "       [ 1.83131307e+01,  2.63899292e+00],\n",
      "       [ 1.84781139e+01,  2.60467176e+00],\n",
      "       [ 1.86430971e+01,  2.37342105e+00],\n",
      "       [ 1.88080802e+01,  1.96884461e+00],\n",
      "       [ 1.89730634e+01,  1.64267852e+00],\n",
      "       [ 1.91380465e+01,  1.24579590e+00],\n",
      "       [ 1.93030297e+01,  1.12541297e+00],\n",
      "       [ 1.94680129e+01,  1.88977631e+00],\n",
      "       [ 1.96329960e+01,  2.84142019e+00],\n",
      "       [ 1.97979792e+01,  3.26191134e+00],\n",
      "       [ 1.99629623e+01,  3.17341021e+00],\n",
      "       [ 2.01279455e+01,  2.88131323e+00],\n",
      "       [ 2.02929286e+01,  2.65806279e+00],\n",
      "       [ 2.04579118e+01,  2.32843450e+00],\n",
      "       [ 2.06228950e+01,  1.83052453e+00],\n",
      "       [ 2.07878781e+01,  1.41577262e+00],\n",
      "       [ 2.09528613e+01,  1.10638194e+00],\n",
      "       [ 2.11178444e+01,  5.92498420e-01],\n",
      "       [ 2.12828276e+01,  9.27996300e-02],\n",
      "       [ 2.14478108e+01,  1.68304620e-01],\n",
      "       [ 2.16127939e+01,  7.95514490e-01],\n",
      "       [ 2.17777771e+01,  1.37517586e+00],\n",
      "       [ 2.19427602e+01,  1.68143546e+00],\n",
      "       [ 2.21077434e+01,  1.75927232e+00],\n",
      "       [ 2.22727266e+01,  1.69493625e+00],\n",
      "       [ 2.24377097e+01,  1.62681571e+00],\n",
      "       [ 2.26026929e+01,  1.70237938e+00],\n",
      "       [ 2.27676760e+01,  1.83187282e+00],\n",
      "       [ 2.29326592e+01,  1.78601176e+00],\n",
      "       [ 2.30976424e+01,  1.64825802e+00],\n",
      "       [ 2.32626255e+01,  1.55307861e+00],\n",
      "       [ 2.34276087e+01,  1.49584785e+00],\n",
      "       [ 2.35925918e+01,  1.10341458e+00],\n",
      "       [ 2.37575750e+01,  7.43430170e-01],\n",
      "       [ 2.39225582e+01,  8.20827610e-01],\n",
      "       [ 2.40875413e+01,  1.02826889e+00],\n",
      "       [ 2.42525245e+01,  1.20781457e+00],\n",
      "       [ 2.44175076e+01,  1.32612134e+00],\n",
      "       [ 2.45824908e+01,  1.38888121e+00],\n",
      "       [ 2.47474740e+01,  1.49930104e+00],\n",
      "       [ 2.49124571e+01,  1.58864292e+00],\n",
      "       [ 2.50774403e+01,  1.62902105e+00],\n",
      "       [ 2.52424234e+01,  1.66994035e+00],\n",
      "       [ 2.54074066e+01,  1.66897918e+00],\n",
      "       [ 2.55723897e+01,  1.58626983e+00],\n",
      "       [ 2.57373729e+01,  1.35838282e+00],\n",
      "       [ 2.59023561e+01,  1.21515643e+00],\n",
      "       [ 2.60673392e+01,  1.32380010e+00],\n",
      "       [ 2.62323224e+01,  1.70271027e+00],\n",
      "       [ 2.63973055e+01,  2.13170039e+00],\n",
      "       [ 2.65622887e+01,  2.42310664e+00],\n",
      "       [ 2.67272719e+01,  2.34645126e+00],\n",
      "       [ 2.68922550e+01,  1.81708257e+00],\n",
      "       [ 2.70572382e+01,  1.27978016e+00],\n",
      "       [ 2.72222214e+01,  9.92374640e-01],\n",
      "       [ 2.73872045e+01,  9.63621710e-01],\n",
      "       [ 2.75521877e+01,  1.45256023e+00],\n",
      "       [ 2.77171708e+01,  2.10932817e+00],\n",
      "       [ 2.78821540e+01,  2.53091212e+00],\n",
      "       [ 2.80471372e+01,  2.60690562e+00],\n",
      "       [ 2.82121203e+01,  2.47180593e+00],\n",
      "       [ 2.83771035e+01,  2.06248044e+00],\n",
      "       [ 2.85420866e+01,  1.55609521e+00],\n",
      "       [ 2.87070698e+01,  1.61803615e+00],\n",
      "       [ 2.88720530e+01,  2.02497329e+00],\n",
      "       [ 2.90370361e+01,  2.23651514e+00],\n",
      "       [ 2.92020193e+01,  2.28344881e+00],\n",
      "       [ 2.93670024e+01,  2.22733123e+00],\n",
      "       [ 2.95319856e+01,  2.14898249e+00],\n",
      "       [ 2.96969687e+01,  2.02307072e+00],\n",
      "       [ 2.98619519e+01,  1.50033810e+00],\n",
      "       [ 3.00269351e+01,  9.16507030e-01],\n",
      "       [ 3.01919182e+01,  6.18193190e-01],\n",
      "       [ 3.03569014e+01,  6.90262490e-01],\n",
      "       [ 3.05218845e+01,  1.17709859e+00],\n",
      "       [ 3.06868677e+01,  1.80023121e+00],\n",
      "       [ 3.08518509e+01,  1.99634789e+00],\n",
      "       [ 3.10168340e+01,  1.80456187e+00],\n",
      "       [ 3.11818172e+01,  1.60653473e+00],\n",
      "       [ 3.13468003e+01,  1.60022110e+00],\n",
      "       [ 3.15117835e+01,  1.74880324e+00],\n",
      "       [ 3.16767667e+01,  1.86623101e+00],\n",
      "       [ 3.18417498e+01,  1.80725064e+00],\n",
      "       [ 3.20067330e+01,  1.75757117e+00],\n",
      "       [ 3.21717161e+01,  1.60621703e+00],\n",
      "       [ 3.23366993e+01,  1.37087355e+00],\n",
      "       [ 3.25016825e+01,  1.28065983e+00],\n",
      "       [ 3.26666656e+01,  1.12635932e+00],\n",
      "       [ 3.28316488e+01,  1.19569383e+00],\n",
      "       [ 3.29966319e+01,  1.74964543e+00],\n",
      "       [ 3.31616151e+01,  2.37556958e+00],\n",
      "       [ 3.33265983e+01,  2.73806359e+00],\n",
      "       [ 3.34915814e+01,  2.65217304e+00],\n",
      "       [ 3.36565646e+01,  2.13574567e+00],\n",
      "       [ 3.38215477e+01,  1.33234717e+00],\n",
      "       [ 3.39865309e+01,  7.12589570e-01],\n",
      "       [ 3.41515141e+01,  9.02329400e-01],\n",
      "       [ 3.43164972e+01,  1.71278821e+00],\n",
      "       [ 3.44814804e+01,  2.25990008e+00],\n",
      "       [ 3.46464635e+01,  2.34072349e+00],\n",
      "       [ 3.48114467e+01,  2.03856424e+00],\n",
      "       [ 3.49764299e+01,  1.45311618e+00],\n",
      "       [ 3.51414130e+01,  1.33424712e+00],\n",
      "       [ 3.53063962e+01,  2.10801924e+00],\n",
      "       [ 3.54713793e+01,  2.95816576e+00],\n",
      "       [ 3.56363625e+01,  3.23911262e+00],\n",
      "       [ 3.58013457e+01,  2.90750930e+00],\n",
      "       [ 3.59663288e+01,  2.51678415e+00],\n",
      "       [ 3.61313120e+01,  2.53716674e+00],\n",
      "       [ 3.62962951e+01,  2.61923980e+00],\n",
      "       [ 3.64612783e+01,  2.48849411e+00],\n",
      "       [ 3.66262615e+01,  2.13399964e+00],\n",
      "       [ 3.67912446e+01,  1.80039741e+00],\n",
      "       [ 3.69562278e+01,  1.63737144e+00],\n",
      "       [ 3.71212109e+01,  1.57102863e+00],\n",
      "       [ 3.72861941e+01,  1.52252659e+00],\n",
      "       [ 3.74511773e+01,  1.33451590e+00],\n",
      "       [ 3.76161604e+01,  1.06858214e+00],\n",
      "       [ 3.77811436e+01,  9.86748170e-01],\n",
      "       [ 3.79461267e+01,  1.34839250e+00],\n",
      "       [ 3.81111099e+01,  2.03695111e+00],\n",
      "       [ 3.82760931e+01,  2.62708828e+00],\n",
      "       [ 3.84410762e+01,  3.04933475e+00],\n",
      "       [ 3.86060594e+01,  3.56522813e+00],\n",
      "       [ 3.87710425e+01,  3.93404710e+00],\n",
      "       [ 3.89360257e+01,  3.94780612e+00],\n",
      "       [ 3.91010088e+01,  3.84052960e+00],\n",
      "       [ 3.92659920e+01,  3.62922906e+00],\n",
      "       [ 3.94309752e+01,  3.58202385e+00],\n",
      "       [ 3.95959583e+01,  4.07767969e+00],\n",
      "       [ 3.97609415e+01,  4.65188378e+00],\n",
      "       [ 3.99259246e+01,  4.94649529e+00],\n",
      "       [ 4.00909078e+01,  4.92766713e+00],\n",
      "       [ 4.02558910e+01,  4.72403703e+00],\n",
      "       [ 4.04208741e+01,  4.63343591e+00],\n",
      "       [ 4.05858573e+01,  4.89875152e+00],\n",
      "       [ 4.07508404e+01,  5.31605107e+00],\n",
      "       [ 4.09158236e+01,  5.60498237e+00],\n",
      "       [ 4.10808068e+01,  5.74182971e+00],\n",
      "       [ 4.12457899e+01,  5.76555183e+00],\n",
      "       [ 4.14107731e+01,  5.68715784e+00],\n",
      "       [ 4.15757562e+01,  5.51653083e+00],\n",
      "       [ 4.17407394e+01,  5.40039653e+00],\n",
      "       [ 4.19057226e+01,  5.49850232e+00],\n",
      "       [ 4.20707057e+01,  5.65788979e+00],\n",
      "       [ 4.22356889e+01,  5.74117131e+00],\n",
      "       [ 4.24006720e+01,  5.75626643e+00],\n",
      "       [ 4.25656552e+01,  5.76267174e+00],\n",
      "       [ 4.27306384e+01,  5.79267144e+00],\n",
      "       [ 4.28956215e+01,  5.81656237e+00],\n",
      "       [ 4.30606047e+01,  5.82974710e+00],\n",
      "       [ 4.32255878e+01,  5.83686135e+00],\n",
      "       [ 4.33905710e+01,  5.84071786e+00],\n",
      "       [ 4.35555542e+01,  5.84280931e+00],\n",
      "       [ 4.37205373e+01,  5.84393337e+00],\n",
      "       [ 4.38855205e+01,  5.84451815e+00],\n",
      "       [ 4.40505036e+01,  5.84481185e+00],\n",
      "       [ 4.42154868e+01,  5.84494343e+00],\n",
      "       [ 4.43804700e+01,  5.84499067e+00],\n",
      "       [ 4.45454531e+01,  5.84499550e+00],\n",
      "       [ 4.47104363e+01,  5.84497694e+00],\n",
      "       [ 4.48754194e+01,  5.84494844e+00],\n",
      "       [ 4.50404026e+01,  5.84491348e+00],\n",
      "       [ 4.52053858e+01,  5.84487817e+00],\n",
      "       [ 4.53703689e+01,  5.84484507e+00],\n",
      "       [ 4.55353521e+01,  5.84481026e+00],\n",
      "       [ 4.57003352e+01,  5.84477736e+00],\n",
      "       [ 4.58653184e+01,  5.84474889e+00],\n",
      "       [ 4.60303016e+01,  5.84472091e+00],\n",
      "       [ 4.61952847e+01,  5.84469361e+00],\n",
      "       [ 4.63602679e+01,  5.84466976e+00],\n",
      "       [ 4.65252510e+01,  5.84464687e+00],\n",
      "       [ 4.66902342e+01,  5.84462593e+00],\n",
      "       [ 4.68552174e+01,  5.84460641e+00],\n",
      "       [ 4.70202005e+01,  5.84458803e+00],\n",
      "       [ 4.71851837e+01,  5.84456945e+00],\n",
      "       [ 4.73501668e+01,  5.84455643e+00],\n",
      "       [ 4.75151500e+01,  5.84453823e+00],\n",
      "       [ 4.76801332e+01,  5.84452439e+00],\n",
      "       [ 4.78451163e+01,  5.84450958e+00],\n",
      "       [ 4.80100995e+01,  5.84449583e+00],\n",
      "       [ 4.81750826e+01,  5.84448284e+00],\n",
      "       [ 4.83400658e+01,  5.84447197e+00],\n",
      "       [ 4.85050490e+01,  5.84445937e+00],\n",
      "       [ 4.86700321e+01,  5.84444847e+00],\n",
      "       [ 4.88350153e+01,  5.15359800e+00]]), '_vacuum': None, '_voltage': None, '_homo': None, '_lumo': None, '_smear': None, '_tpdos': None, '_eigenvalues': None}\n"
     ]
    }
   ],
   "source": [
    "# Let's see what information was stored for the first MD frame \n",
    "for (frame, obj) in dos.dos.items():\n",
    "    print(frame, type(obj), obj.__dict__)\n",
    "    break"
   ]
  },
  {
   "cell_type": "markdown",
   "metadata": {},
   "source": [
    "Use dedicated function to extract properties"
   ]
  },
  {
   "cell_type": "code",
   "execution_count": 4,
   "metadata": {},
   "outputs": [
    {
     "name": "stdout",
     "output_type": "stream",
     "text": [
      "Fermi level was -0.012789 eV at frame 10.\n",
      "----------------------------------------\n",
      "Fermi level was -0.012789 eV at frame  10.0.\n",
      "Fermi level was +0.090478 eV at frame 110.0.\n",
      "Fermi level was +0.103539 eV at frame 210.0.\n",
      "----------------------------------------\n",
      "Tried to get invalid property foo. Available properties ['dos', 'eigenvalues', 'fermi', 'homo', 'lumo', 'potential', 'smear', 'tpdos', 'vacuum', 'voltage'].\n"
     ]
    }
   ],
   "source": [
    "# We can extract a specific property with the get_property function\n",
    "frame = 10\n",
    "fermi_level = dos.get_property('fermi', frame)\n",
    "print(f\"Fermi level was {fermi_level:.6f} eV at frame {frame}.\")\n",
    "\n",
    "# Let's get the Fermi level at all MD steps\n",
    "print('-'*40)\n",
    "fermi_levels = dos.get_property('fermi', 'all')\n",
    "frames = dos.dos.keys()\n",
    "\n",
    "for frame, fermi_level in zip(frames, fermi_levels):\n",
    "    print(f\"Fermi level was {fermi_level:+.6f} eV at frame {frame:5.1f}.\")\n",
    "    \n",
    "# Let's see what happens if we try to access an invalid property\n",
    "print('-'*40)\n",
    "try:\n",
    "    dos.get_property('foo', frame)\n",
    "except ValueError as err:\n",
    "    print(err)"
   ]
  },
  {
   "cell_type": "markdown",
   "metadata": {},
   "source": [
    "## Computing New Properties"
   ]
  },
  {
   "cell_type": "code",
   "execution_count": 5,
   "metadata": {
    "scrolled": true
   },
   "outputs": [
    {
     "name": "stdout",
     "output_type": "stream",
     "text": [
      "Function tpdos is not a callable function of type DOSFrame. Accepted functions: ['calculate_homo_lumo', 'calculate_tpdos', 'calculate_vacuum', 'calculate_voltage', 'get_voltage', 'smear_dos'].\n",
      "----------------------------------------\n",
      "Calculating TPDOS\n",
      "[[-9.82842803e+01  9.59619210e-01]\n",
      " [-9.82250956e+01  9.64620930e-01]\n",
      " [-9.81891493e+01  9.64368230e-01]\n",
      " ...\n",
      " [ 1.57636145e+02  3.00000000e-08]\n",
      " [ 1.58624789e+02  0.00000000e+00]\n",
      " [ 1.59354680e+02  0.00000000e+00]]\n",
      "----------------------------------------\n",
      "Setting vacuum potential\n",
      "None\n",
      "[0 0]\n"
     ]
    }
   ],
   "source": [
    "# We can compute new properties using the evaluate function\n",
    "# Let's compute the total projected DOS\n",
    "\n",
    "# Test invalid method name first \n",
    "try:\n",
    "    dos.evaluate('tpdos', 'all')\n",
    "except ValueError as err:\n",
    "    print(err)\n",
    "    \n",
    "# We should have used 'calculate_tpdos', let's try that next\n",
    "print('-'*40)\n",
    "print('Calculating TPDOS')\n",
    "dos.evaluate('calculate_tpdos', 'all')\n",
    "print(dos.get_property('tpdos', 10))\n",
    "\n",
    "# All properties with a getter have a corresponding setter e.g. if you want to copy data\n",
    "# Note that you should generally avoid calling the setters and use the evaluate method instead \n",
    "print('-'*40)\n",
    "print('Setting vacuum potential')\n",
    "frame = 10\n",
    "print(dos.get_property('vacuum', frame))\n",
    "dos.set_property('vacuum', np.array([0, 0]), frame)\n",
    "print(dos.get_property('vacuum', frame))"
   ]
  },
  {
   "cell_type": "markdown",
   "metadata": {},
   "source": [
    "## Visualizing the Data"
   ]
  },
  {
   "cell_type": "markdown",
   "metadata": {},
   "source": [
    "Let's plot the averaged electrostatic potential first "
   ]
  },
  {
   "cell_type": "code",
   "execution_count": 6,
   "metadata": {},
   "outputs": [
    {
     "data": {
      "application/vnd.jupyter.widget-view+json": {
       "model_id": "44694318dbb643c38f6853415736209f",
       "version_major": 2,
       "version_minor": 0
      },
      "text/plain": [
       "VBox(children=(FigureCanvasNbAgg(), IntSlider(value=0, description='Frame', max=2)))"
      ]
     },
     "metadata": {},
     "output_type": "display_data"
    }
   ],
   "source": [
    "from ipywidgets import VBox, IntSlider\n",
    "\n",
    "plt.ioff()\n",
    "plt.clf()\n",
    "\n",
    "frames = list(dos.dos.keys())\n",
    "potentials = dos.get_property('potential', 'all')\n",
    "x = potentials[0][:, 0]\n",
    "\n",
    "slider = IntSlider(orientation='horizontal', value=0, \n",
    "                   min=0, max=len(frames)-1, step=1,\n",
    "                   description=\"Frame\")\n",
    "\n",
    "fig = plt.figure(3)\n",
    "lines = plt.plot(x, potentials[slider.value][:, 1])\n",
    "\n",
    "def update_lines(change):\n",
    "    lines[0].set_data(x, potentials[change.new][:, 1])\n",
    "    fig.canvas.draw()\n",
    "    fig.canvas.flush_events()\n",
    "\n",
    "slider.observe(update_lines, names='value')\n",
    "# Labels\n",
    "plt.xlabel(\"Z-coordinate (Å)\")\n",
    "plt.ylabel(\"Electrostatic potential on absolute scale (V)\")\n",
    "\n",
    "VBox([fig.canvas, slider])"
   ]
  },
  {
   "cell_type": "markdown",
   "metadata": {},
   "source": [
    "### Computing the Electrode Potential\n",
    "\n",
    "We can compute the system's electrode potential on an absolute scale as[$^\\mathrm{ref\\ 1}$](https://dx.doi.org/10.1039/C2CP41652B)\n",
    "\n",
    "$$\n",
    "U^\\mathrm{abs.} = -\\frac{\\mu}{e}+\\phi^S\n",
    "$$\n",
    "where is $\\mu$ is the system's Fermi level, the $\\phi^S$ is the vacuum potential, and $e$ is the elementary charge.\n",
    "\n",
    "In this example, our system is composed of\n",
    "* 4-layer Pt surface (visible in plot above at around 10 Å)\n",
    "* water (between 20-40 Å)\n",
    "* vacuum above/below the surface+water system\n",
    "\n",
    "\n",
    "The electrostatic potential flattens to a constant value above and below the surface system. This value is not constant on both sides of the system because the system has a net dipole moment. A dipole correction has been applied to compensate for this fact, which you can see as the step-like discontinuity in the value of the potential inside the vacuum region. The discontinuity's location changes from one MD frame to another. \n",
    "\n",
    "To compute the electrode potential, we need to calculate the vacuum potential $\\phi^S$. This is simply the value of the electrostatic potential above water inside the vacuum region before the dipole correction induced jump in potential. We cannot set the vacuum potential to a fixed point along the Z-axis because of the dipole correction. We can instead use a method that finds the vacuum potential dynamically using a set of heuristic rules (see function `_find_vacuum_potential()` in `dos.py` for details)."
   ]
  },
  {
   "cell_type": "code",
   "execution_count": 7,
   "metadata": {},
   "outputs": [
    {
     "data": {
      "application/vnd.jupyter.widget-view+json": {
       "model_id": "d81a908be1a14ff9920022e0299c2a49",
       "version_major": 2,
       "version_minor": 0
      },
      "text/plain": [
       "VBox(children=(FigureCanvasNbAgg(), IntSlider(value=0, description='Frame', max=2)))"
      ]
     },
     "metadata": {},
     "output_type": "display_data"
    }
   ],
   "source": [
    "# Compute vacuum potential\n",
    "vacuum_loc = -1. # Negative number means detect automatically\n",
    "dos.evaluate('calculate_vacuum', 'all', vacuum_loc)\n",
    "vacuum_potentials = dos.get_property('vacuum', 'all')\n",
    "\n",
    "# Visualize vacuum potential\n",
    "from ipywidgets import VBox, IntSlider\n",
    "\n",
    "plt.ioff()\n",
    "plt.clf()\n",
    "\n",
    "frames = list(dos.dos.keys())\n",
    "potentials = dos.get_property('potential', 'all')\n",
    "x = potentials[0][:, 0]\n",
    "\n",
    "slider = IntSlider(orientation='horizontal', value=0, \n",
    "                   min=0, max=len(frames)-1, step=1,\n",
    "                   description=\"Frame\")\n",
    "\n",
    "fig = plt.figure(4)\n",
    "lines = plt.plot(x, potentials[slider.value][:, 1])\n",
    "scatter = plt.scatter(*vacuum_potentials[slider.value], marker='o', color='r', s=60)\n",
    "\n",
    "def update_lines(change):\n",
    "    lines[0].set_data(x, potentials[change.new][:, 1])\n",
    "    scatter.set_offsets(vacuum_potentials[change.new])\n",
    "    fig.canvas.draw()\n",
    "    fig.canvas.flush_events()\n",
    "\n",
    "slider.observe(update_lines, names='value')\n",
    "\n",
    "# Labels\n",
    "plt.xlabel(\"Z-coordinate (Å)\")\n",
    "plt.ylabel(\"Electrostatic potential on absolute scale (V)\")\n",
    "\n",
    "VBox([fig.canvas, slider])"
   ]
  },
  {
   "cell_type": "markdown",
   "metadata": {},
   "source": [
    "### Conversion to SHE Scale\n",
    "\n",
    "We now have everything that we need to evaluate the electrode potential on the absolute potential scale. We can convert the value to the so-called standard hydrogen electrode (SHE) scale according to\n",
    "\n",
    "$$\n",
    "U^\\mathrm{SHE} = U^\\mathrm{abs.} + U^\\mathrm{abs.\\ SHE}\n",
    "$$\n",
    "\n",
    "where the last term is the absolute electrode potential of SHE, -4.44 V."
   ]
  },
  {
   "cell_type": "code",
   "execution_count": 8,
   "metadata": {},
   "outputs": [
    {
     "name": "stdout",
     "output_type": "stream",
     "text": [
      "Electrode potential was +5.86 V (absolute scale), or +1.42 V relative to SHE, at frame  10.0.\n",
      "Electrode potential was +5.10 V (absolute scale), or +0.66 V relative to SHE, at frame 110.0.\n",
      "Electrode potential was +5.00 V (absolute scale), or +0.56 V relative to SHE, at frame 210.0.\n"
     ]
    }
   ],
   "source": [
    "electrode_potentials = dos.get_property('voltage', 'all')\n",
    "\n",
    "frames = dos.dos.keys()\n",
    "\n",
    "for frame, pot in zip(frames, electrode_potentials):\n",
    "    abs_pot, rel_pot = pot\n",
    "    print(f\"Electrode potential was {abs_pot:+.2f} V (absolute scale), or {rel_pot:+.2f} V relative to SHE, at frame {frame:5.1f}.\")\n"
   ]
  },
  {
   "cell_type": "markdown",
   "metadata": {},
   "source": [
    "## Gaussian smeared DOS\n",
    "\n",
    "The raw data from a DOS calculation is discrete spectrum of (eigenvalue, orbital weight) pairs. DOS data is commonly smeared with Gaussians prior to plotting. \n",
    "\n",
    "The function `smear_dos` smears the total projected DOS, which we computed further above. The function takes as input the width of the Gaussian that is used for smearing."
   ]
  },
  {
   "cell_type": "code",
   "execution_count": 9,
   "metadata": {},
   "outputs": [],
   "source": [
    "# Feel free vary the width of the Gaussian and see what happens to the plot\n",
    "gaussian_width = 0.05\n",
    "dos.evaluate('smear_dos', 'all', gaussian_width)"
   ]
  },
  {
   "cell_type": "code",
   "execution_count": 10,
   "metadata": {},
   "outputs": [
    {
     "name": "stdout",
     "output_type": "stream",
     "text": [
      "[-98.28428034  12.7480261 ]\n"
     ]
    },
    {
     "data": {
      "application/vnd.jupyter.widget-view+json": {
       "model_id": "61ea1a2642a04d4ba35f1ccaef0c67bd",
       "version_major": 2,
       "version_minor": 0
      },
      "text/plain": [
       "VBox(children=(FigureCanvasNbAgg(), IntSlider(value=0, description='Frame', max=2)))"
      ]
     },
     "metadata": {},
     "output_type": "display_data"
    }
   ],
   "source": [
    "# Visualize vacuum potential\n",
    "from ipywidgets import VBox, IntSlider\n",
    "\n",
    "frames = list(dos.dos.keys())\n",
    "# Get the smeared DOS\n",
    "smeared_dos = dos.get_property('smear', 'all')\n",
    "# Get the electron energies i.e. x-axis of the DOS plot (constant object)\n",
    "eigenvalues = dos.get_property('smear', frames[0])\n",
    "\n",
    "print(smeared_dos[0][0, :])\n",
    "\n",
    "# Plot smeared DOS\n",
    "plt.ioff()\n",
    "plt.clf()\n",
    "\n",
    "slider = IntSlider(orientation='horizontal', value=0, \n",
    "                   min=0, max=len(frames)-1, step=1,\n",
    "                   description=\"Frame\")\n",
    "\n",
    "fig = plt.figure(5)\n",
    "lines = plt.plot(smeared_dos[slider.value][:, 0], smeared_dos[slider.value][:, 1])\n",
    "\n",
    "def update_lines(change):\n",
    "    lines[0].set_data(smeared_dos[change.new][:, 0], smeared_dos[change.new][:, 1])\n",
    "    fig.canvas.draw()\n",
    "    fig.canvas.flush_events()\n",
    "\n",
    "slider.observe(update_lines, names='value')\n",
    "\n",
    "# Focus on region around Fermi level\n",
    "plt.xlim([-10, 10])\n",
    "plt.ylim([-10, 200])\n",
    "\n",
    "# Labels\n",
    "plt.xlabel(\"Energy relative to Fermi level (eV)\")\n",
    "plt.ylabel(\"Total projected DOS (arb. unit)\")\n",
    "\n",
    "VBox([fig.canvas, slider])"
   ]
  },
  {
   "cell_type": "markdown",
   "metadata": {},
   "source": [
    "### Smearing Specific Orbitals\n",
    "\n",
    "Above, we smeared the total projected DOS. Sometimes it might useful to decompose this figure into contributions, e.g., to visualize specific d-orbitals separately. You can use the `smear` and `delta` functions as templates to smear just a subset of orbitals. \n",
    "\n",
    "In this example, we will construct a plot for the $d_{z^2}$ orbitals."
   ]
  },
  {
   "cell_type": "markdown",
   "metadata": {},
   "source": [
    "Get orbital projected DOS "
   ]
  },
  {
   "cell_type": "code",
   "execution_count": 11,
   "metadata": {},
   "outputs": [
    {
     "name": "stdout",
     "output_type": "stream",
     "text": [
      "List of orbitals: ['s', 'py', 'pz', 'px', 'd-2', 'd-1', 'd0', 'd+1', 'd+2', 'f-3', 'f-2', 'f-1', 'f0', 'f+1', 'f+2', 'f+3']\n"
     ]
    }
   ],
   "source": [
    "# Let's check what kind of orbitals we have in our data set\n",
    "with open('data/dos-3frames.dat') as fp:\n",
    "    fp.readline()\n",
    "    header = fp.readline()\n",
    "\n",
    "orbitals = header.split('Occupation')[-1].strip().split()\n",
    "print(f'List of orbitals: {orbitals}')\n",
    "\n",
    "# Extract DOS for d0 orbitals (i.e. d_z2 orbitals)\n",
    "orbital_idx = orbitals.index('d0')\n",
    "dos_list = dos.get_property('dos', 'all')\n",
    "\n",
    "# Pick these columns from the DOS \n",
    "# The first col is the energy eigenvalue, second the occupation, followed by the orbitals \n",
    "cols = [0, orbital_idx+2]\n",
    "\n",
    "dz_dos = []\n",
    "for frame in dos_list:\n",
    "    dz_dos.append(frame[:, cols])"
   ]
  },
  {
   "cell_type": "markdown",
   "metadata": {},
   "source": [
    "Apply smearing"
   ]
  },
  {
   "cell_type": "code",
   "execution_count": 12,
   "metadata": {},
   "outputs": [],
   "source": [
    "# Smear d0 orbital DOS\n",
    "from dos import delta\n",
    "\n",
    "gaussian_width = 0.05\n",
    "dz_smeared = []\n",
    "\n",
    "for frame in dz_dos:\n",
    "    emin, emax = np.amin(frame[:, 0]), np.amax(frame[:, 0])\n",
    "    eigenvalues = np.linspace(emin, emax, len(frame[:,0]))\n",
    "    \n",
    "    smeared = np.zeros(frame.shape)\n",
    "    # Eigenvalues\n",
    "    smeared[:, 0] = frame[:, 0]\n",
    "    \n",
    "    for e, pd in frame:\n",
    "        smeared[:, 1] += pd*delta(eigenvalues, e, gaussian_width)\n",
    "        \n",
    "    dz_smeared.append(smeared)\n"
   ]
  },
  {
   "cell_type": "markdown",
   "metadata": {},
   "source": [
    "Plot orbital projected DOS"
   ]
  },
  {
   "cell_type": "code",
   "execution_count": 13,
   "metadata": {},
   "outputs": [
    {
     "data": {
      "application/vnd.jupyter.widget-view+json": {
       "model_id": "46e234b8c5ed4472aca2018047df236d",
       "version_major": 2,
       "version_minor": 0
      },
      "text/plain": [
       "VBox(children=(FigureCanvasNbAgg(), IntSlider(value=0, description='Frame', max=2)))"
      ]
     },
     "metadata": {},
     "output_type": "display_data"
    }
   ],
   "source": [
    "# Plot smeared d0 orbital DOS\n",
    "from ipywidgets import VBox, IntSlider\n",
    "\n",
    "frames = list(dos.dos.keys())\n",
    "smeared_dos = dz_smeared\n",
    "\n",
    "plt.ioff()\n",
    "plt.clf()\n",
    "\n",
    "slider = IntSlider(orientation='horizontal', value=0, \n",
    "                   min=0, max=len(frames)-1, step=1,\n",
    "                   description=\"Frame\")\n",
    "\n",
    "fig = plt.figure(7)\n",
    "lines = plt.plot(smeared_dos[slider.value][:, 0], smeared_dos[slider.value][:, 1])\n",
    "\n",
    "def update_lines(change):\n",
    "    lines[0].set_data(smeared_dos[change.new][:, 0], smeared_dos[change.new][:, 1])\n",
    "    fig.canvas.draw()\n",
    "    fig.canvas.flush_events()\n",
    "\n",
    "slider.observe(update_lines, names='value')\n",
    "\n",
    "# Focus on region around Fermi level\n",
    "plt.xlim([-10, 50])\n",
    "\n",
    "# Labels\n",
    "plt.xlabel(\"Energy relative to Fermi level (eV)\")\n",
    "plt.ylabel(\"Dz orbital projected DOS (arb. unit)\")\n",
    "\n",
    "VBox([fig.canvas, slider])"
   ]
  }
 ],
 "metadata": {
  "kernelspec": {
   "display_name": "Python 3",
   "language": "python",
   "name": "python3"
  },
  "language_info": {
   "codemirror_mode": {
    "name": "ipython",
    "version": 3
   },
   "file_extension": ".py",
   "mimetype": "text/x-python",
   "name": "python",
   "nbconvert_exporter": "python",
   "pygments_lexer": "ipython3",
   "version": "3.7.0"
  }
 },
 "nbformat": 4,
 "nbformat_minor": 2
}
